{
 "cells": [
  {
   "cell_type": "code",
   "execution_count": 1,
   "metadata": {},
   "outputs": [],
   "source": [
    "import pandas as pd\n",
    "\n",
    "ames_housing = pd.read_csv(\n",
    "    \"../datasets/ames_housing_no_missing.csv\",\n",
    "    na_filter=False,  # required for pandas>2.0\n",
    ")\n",
    "target_name = \"SalePrice\"\n",
    "data = ames_housing.drop(columns=target_name)\n",
    "target = ames_housing[target_name]"
   ]
  },
  {
   "cell_type": "code",
   "execution_count": 2,
   "metadata": {},
   "outputs": [
    {
     "data": {
      "text/html": [
       "<div>\n",
       "<style scoped>\n",
       "    .dataframe tbody tr th:only-of-type {\n",
       "        vertical-align: middle;\n",
       "    }\n",
       "\n",
       "    .dataframe tbody tr th {\n",
       "        vertical-align: top;\n",
       "    }\n",
       "\n",
       "    .dataframe thead th {\n",
       "        text-align: right;\n",
       "    }\n",
       "</style>\n",
       "<table border=\"1\" class=\"dataframe\">\n",
       "  <thead>\n",
       "    <tr style=\"text-align: right;\">\n",
       "      <th></th>\n",
       "      <th>MSSubClass</th>\n",
       "      <th>MSZoning</th>\n",
       "      <th>LotFrontage</th>\n",
       "      <th>LotArea</th>\n",
       "      <th>Street</th>\n",
       "      <th>Alley</th>\n",
       "      <th>LotShape</th>\n",
       "      <th>LandContour</th>\n",
       "      <th>Utilities</th>\n",
       "      <th>LotConfig</th>\n",
       "      <th>...</th>\n",
       "      <th>PoolArea</th>\n",
       "      <th>PoolQC</th>\n",
       "      <th>Fence</th>\n",
       "      <th>MiscFeature</th>\n",
       "      <th>MiscVal</th>\n",
       "      <th>MoSold</th>\n",
       "      <th>YrSold</th>\n",
       "      <th>SaleType</th>\n",
       "      <th>SaleCondition</th>\n",
       "      <th>SalePrice</th>\n",
       "    </tr>\n",
       "  </thead>\n",
       "  <tbody>\n",
       "    <tr>\n",
       "      <th>0</th>\n",
       "      <td>60</td>\n",
       "      <td>RL</td>\n",
       "      <td>65.0</td>\n",
       "      <td>8450</td>\n",
       "      <td>Pave</td>\n",
       "      <td>Grvl</td>\n",
       "      <td>Reg</td>\n",
       "      <td>Lvl</td>\n",
       "      <td>AllPub</td>\n",
       "      <td>Inside</td>\n",
       "      <td>...</td>\n",
       "      <td>0</td>\n",
       "      <td>Gd</td>\n",
       "      <td>MnPrv</td>\n",
       "      <td>Shed</td>\n",
       "      <td>0</td>\n",
       "      <td>2</td>\n",
       "      <td>2008</td>\n",
       "      <td>WD</td>\n",
       "      <td>Normal</td>\n",
       "      <td>208500</td>\n",
       "    </tr>\n",
       "    <tr>\n",
       "      <th>1</th>\n",
       "      <td>20</td>\n",
       "      <td>RL</td>\n",
       "      <td>80.0</td>\n",
       "      <td>9600</td>\n",
       "      <td>Pave</td>\n",
       "      <td>Grvl</td>\n",
       "      <td>Reg</td>\n",
       "      <td>Lvl</td>\n",
       "      <td>AllPub</td>\n",
       "      <td>FR2</td>\n",
       "      <td>...</td>\n",
       "      <td>0</td>\n",
       "      <td>Gd</td>\n",
       "      <td>MnPrv</td>\n",
       "      <td>Shed</td>\n",
       "      <td>0</td>\n",
       "      <td>5</td>\n",
       "      <td>2007</td>\n",
       "      <td>WD</td>\n",
       "      <td>Normal</td>\n",
       "      <td>181500</td>\n",
       "    </tr>\n",
       "    <tr>\n",
       "      <th>2</th>\n",
       "      <td>60</td>\n",
       "      <td>RL</td>\n",
       "      <td>68.0</td>\n",
       "      <td>11250</td>\n",
       "      <td>Pave</td>\n",
       "      <td>Grvl</td>\n",
       "      <td>IR1</td>\n",
       "      <td>Lvl</td>\n",
       "      <td>AllPub</td>\n",
       "      <td>Inside</td>\n",
       "      <td>...</td>\n",
       "      <td>0</td>\n",
       "      <td>Gd</td>\n",
       "      <td>MnPrv</td>\n",
       "      <td>Shed</td>\n",
       "      <td>0</td>\n",
       "      <td>9</td>\n",
       "      <td>2008</td>\n",
       "      <td>WD</td>\n",
       "      <td>Normal</td>\n",
       "      <td>223500</td>\n",
       "    </tr>\n",
       "    <tr>\n",
       "      <th>3</th>\n",
       "      <td>70</td>\n",
       "      <td>RL</td>\n",
       "      <td>60.0</td>\n",
       "      <td>9550</td>\n",
       "      <td>Pave</td>\n",
       "      <td>Grvl</td>\n",
       "      <td>IR1</td>\n",
       "      <td>Lvl</td>\n",
       "      <td>AllPub</td>\n",
       "      <td>Corner</td>\n",
       "      <td>...</td>\n",
       "      <td>0</td>\n",
       "      <td>Gd</td>\n",
       "      <td>MnPrv</td>\n",
       "      <td>Shed</td>\n",
       "      <td>0</td>\n",
       "      <td>2</td>\n",
       "      <td>2006</td>\n",
       "      <td>WD</td>\n",
       "      <td>Abnorml</td>\n",
       "      <td>140000</td>\n",
       "    </tr>\n",
       "    <tr>\n",
       "      <th>4</th>\n",
       "      <td>60</td>\n",
       "      <td>RL</td>\n",
       "      <td>84.0</td>\n",
       "      <td>14260</td>\n",
       "      <td>Pave</td>\n",
       "      <td>Grvl</td>\n",
       "      <td>IR1</td>\n",
       "      <td>Lvl</td>\n",
       "      <td>AllPub</td>\n",
       "      <td>FR2</td>\n",
       "      <td>...</td>\n",
       "      <td>0</td>\n",
       "      <td>Gd</td>\n",
       "      <td>MnPrv</td>\n",
       "      <td>Shed</td>\n",
       "      <td>0</td>\n",
       "      <td>12</td>\n",
       "      <td>2008</td>\n",
       "      <td>WD</td>\n",
       "      <td>Normal</td>\n",
       "      <td>250000</td>\n",
       "    </tr>\n",
       "  </tbody>\n",
       "</table>\n",
       "<p>5 rows × 80 columns</p>\n",
       "</div>"
      ],
      "text/plain": [
       "   MSSubClass MSZoning  LotFrontage  LotArea Street Alley LotShape  \\\n",
       "0          60       RL         65.0     8450   Pave  Grvl      Reg   \n",
       "1          20       RL         80.0     9600   Pave  Grvl      Reg   \n",
       "2          60       RL         68.0    11250   Pave  Grvl      IR1   \n",
       "3          70       RL         60.0     9550   Pave  Grvl      IR1   \n",
       "4          60       RL         84.0    14260   Pave  Grvl      IR1   \n",
       "\n",
       "  LandContour Utilities LotConfig  ... PoolArea PoolQC  Fence MiscFeature  \\\n",
       "0         Lvl    AllPub    Inside  ...        0     Gd  MnPrv        Shed   \n",
       "1         Lvl    AllPub       FR2  ...        0     Gd  MnPrv        Shed   \n",
       "2         Lvl    AllPub    Inside  ...        0     Gd  MnPrv        Shed   \n",
       "3         Lvl    AllPub    Corner  ...        0     Gd  MnPrv        Shed   \n",
       "4         Lvl    AllPub       FR2  ...        0     Gd  MnPrv        Shed   \n",
       "\n",
       "  MiscVal MoSold  YrSold  SaleType  SaleCondition  SalePrice  \n",
       "0       0      2    2008        WD         Normal     208500  \n",
       "1       0      5    2007        WD         Normal     181500  \n",
       "2       0      9    2008        WD         Normal     223500  \n",
       "3       0      2    2006        WD        Abnorml     140000  \n",
       "4       0     12    2008        WD         Normal     250000  \n",
       "\n",
       "[5 rows x 80 columns]"
      ]
     },
     "execution_count": 2,
     "metadata": {},
     "output_type": "execute_result"
    }
   ],
   "source": [
    "ames_housing.head()"
   ]
  },
  {
   "cell_type": "code",
   "execution_count": 3,
   "metadata": {},
   "outputs": [],
   "source": [
    "numerical_features = [\n",
    "    \"LotFrontage\", \"LotArea\", \"MasVnrArea\", \"BsmtFinSF1\", \"BsmtFinSF2\",\n",
    "    \"BsmtUnfSF\", \"TotalBsmtSF\", \"1stFlrSF\", \"2ndFlrSF\", \"LowQualFinSF\",\n",
    "    \"GrLivArea\", \"BedroomAbvGr\", \"KitchenAbvGr\", \"TotRmsAbvGrd\", \"Fireplaces\",\n",
    "    \"GarageCars\", \"GarageArea\", \"WoodDeckSF\", \"OpenPorchSF\", \"EnclosedPorch\",\n",
    "    \"3SsnPorch\", \"ScreenPorch\", \"PoolArea\", \"MiscVal\",\n",
    "]\n",
    "\n",
    "data_numerical = data[numerical_features]\n"
   ]
  },
  {
   "cell_type": "code",
   "execution_count": 4,
   "metadata": {},
   "outputs": [],
   "source": [
    "from sklearn.compose import ColumnTransformer\n",
    "from sklearn.preprocessing import StandardScaler\n",
    "from sklearn.model_selection import cross_validate\n",
    "from sklearn.pipeline import make_pipeline\n",
    "\n",
    "\n",
    "preprocessor = ColumnTransformer(\n",
    "    transformers=[\n",
    "        ('num', StandardScaler(), numerical_features),\n",
    "    ]\n",
    ")"
   ]
  },
  {
   "cell_type": "code",
   "execution_count": 5,
   "metadata": {},
   "outputs": [],
   "source": [
    "from sklearn.linear_model import LinearRegression\n",
    "\n",
    "linear_model = make_pipeline(\n",
    "    preprocessor,\n",
    "    LinearRegression(),\n",
    ")"
   ]
  },
  {
   "cell_type": "code",
   "execution_count": 6,
   "metadata": {},
   "outputs": [],
   "source": [
    "cv_results = cross_validate(\n",
    "    linear_model,\n",
    "    data_numerical,\n",
    "    target,\n",
    "    cv=10,\n",
    "    return_train_score=True,\n",
    "    return_estimator=True,\n",
    ")\n"
   ]
  },
  {
   "cell_type": "code",
   "execution_count": 7,
   "metadata": {},
   "outputs": [
    {
     "data": {
      "text/plain": [
       "array([0.76129977, 0.80635105, 0.81358636, 0.66592199, 0.79964891,\n",
       "       0.76868787, 0.75635094, 0.71822127, 0.31479306, 0.78635221])"
      ]
     },
     "execution_count": 7,
     "metadata": {},
     "output_type": "execute_result"
    }
   ],
   "source": [
    "test_score_lr = cv_results[\"test_score\"]\n",
    "test_score_lr"
   ]
  },
  {
   "cell_type": "code",
   "execution_count": 8,
   "metadata": {},
   "outputs": [],
   "source": [
    "from sklearn.tree import DecisionTreeRegressor\n",
    "\n",
    "tree = make_pipeline(\n",
    "    preprocessor,\n",
    "    DecisionTreeRegressor(random_state=0),\n",
    ")"
   ]
  },
  {
   "cell_type": "code",
   "execution_count": 9,
   "metadata": {},
   "outputs": [],
   "source": [
    "cv_results = cross_validate(\n",
    "    tree,\n",
    "    data_numerical,\n",
    "    target,\n",
    "    cv=10,\n",
    "    return_train_score=True,\n",
    "    return_estimator=True,\n",
    ")"
   ]
  },
  {
   "cell_type": "code",
   "execution_count": 10,
   "metadata": {},
   "outputs": [
    {
     "data": {
      "text/plain": [
       "array([0.61901627, 0.69388459, 0.70870548, 0.6002156 , 0.70972077,\n",
       "       0.62009287, 0.51579096, 0.62799316, 0.42353424, 0.68396279])"
      ]
     },
     "execution_count": 10,
     "metadata": {},
     "output_type": "execute_result"
    }
   ],
   "source": [
    "test_score_complex_lr = cv_results[\"test_score\"]\n",
    "test_score_complex_lr"
   ]
  },
  {
   "cell_type": "code",
   "execution_count": 11,
   "metadata": {},
   "outputs": [
    {
     "name": "stdout",
     "output_type": "stream",
     "text": [
      "A model using both all features is better than a model using only numerical features for 1 CV iterations out of 10.\n"
     ]
    },
    {
     "data": {
      "image/png": "[encoded data removed]",
      "text/plain": [
       "<Figure size 640x480 with 1 Axes>"
      ]
     },
     "metadata": {},
     "output_type": "display_data"
    }
   ],
   "source": [
    "import matplotlib.pyplot as plt\n",
    "import numpy as np\n",
    "\n",
    "indices = np.arange(len(test_score_lr))\n",
    "plt.scatter(\n",
    "    indices, test_score_lr, color=\"tab:blue\", label=\"Lineal\"\n",
    ")\n",
    "plt.scatter(\n",
    "    indices,\n",
    "    test_score_complex_lr,\n",
    "    color=\"tab:red\",\n",
    "    label=\"Tree\",\n",
    ")\n",
    "plt.ylim((0, 1))\n",
    "plt.xlabel(\"Cross-validation iteration\")\n",
    "plt.ylabel(\"Accuracy\")\n",
    "_ = plt.legend(bbox_to_anchor=(1.05, 1), loc=\"upper left\")\n",
    "\n",
    "print(\n",
    "    \"A model using both all features is better than a\"\n",
    "    \" model using only numerical features for\"\n",
    "    f\" {sum(test_score_complex_lr > test_score_lr)} CV iterations out of 10.\"\n",
    ")"
   ]
  },
  {
   "cell_type": "code",
   "execution_count": 12,
   "metadata": {},
   "outputs": [
    {
     "name": "stdout",
     "output_type": "stream",
     "text": [
      "memory\n",
      "steps\n",
      "verbose\n",
      "columntransformer\n",
      "decisiontreeregressor\n",
      "columntransformer__n_jobs\n",
      "columntransformer__remainder\n",
      "columntransformer__sparse_threshold\n",
      "columntransformer__transformer_weights\n",
      "columntransformer__transformers\n",
      "columntransformer__verbose\n",
      "columntransformer__verbose_feature_names_out\n",
      "columntransformer__num\n",
      "columntransformer__num__copy\n",
      "columntransformer__num__with_mean\n",
      "columntransformer__num__with_std\n",
      "decisiontreeregressor__ccp_alpha\n",
      "decisiontreeregressor__criterion\n",
      "decisiontreeregressor__max_depth\n",
      "decisiontreeregressor__max_features\n",
      "decisiontreeregressor__max_leaf_nodes\n",
      "decisiontreeregressor__min_impurity_decrease\n",
      "decisiontreeregressor__min_samples_leaf\n",
      "decisiontreeregressor__min_samples_split\n",
      "decisiontreeregressor__min_weight_fraction_leaf\n",
      "decisiontreeregressor__random_state\n",
      "decisiontreeregressor__splitter\n"
     ]
    }
   ],
   "source": [
    "for parameter in tree.get_params():\n",
    "    print(parameter)"
   ]
  },
  {
   "cell_type": "code",
   "execution_count": 13,
   "metadata": {},
   "outputs": [],
   "source": [
    "from sklearn.model_selection import GridSearchCV\n",
    "import numpy as np\n",
    "\n",
    "\n",
    "params = {\"max_depth\": np.arange(5, 9),\n",
    "         \"random_state\": np.arange(0,2)}\n",
    "search = GridSearchCV(DecisionTreeRegressor(random_state=0), params, cv=10)"
   ]
  },
  {
   "cell_type": "code",
   "execution_count": 14,
   "metadata": {},
   "outputs": [],
   "source": [
    "cv_results_tree_optimal_depth = cross_validate(\n",
    "    search, data_numerical, target, cv=10, return_estimator=True, n_jobs=2,\n",
    ")"
   ]
  },
  {
   "cell_type": "code",
   "execution_count": 15,
   "metadata": {},
   "outputs": [
    {
     "data": {
      "text/plain": [
       "array([0.61254979, 0.75007937, 0.7092939 , 0.61593787, 0.7380518 ,\n",
       "       0.72481088, 0.67908796, 0.76053576, 0.52936007, 0.72866512])"
      ]
     },
     "execution_count": 15,
     "metadata": {},
     "output_type": "execute_result"
    }
   ],
   "source": [
    "test_score_complex_lr_2 = cv_results_tree_optimal_depth[\"test_score\"]\n",
    "test_score_complex_lr_2"
   ]
  },
  {
   "cell_type": "code",
   "execution_count": 16,
   "metadata": {},
   "outputs": [
    {
     "name": "stdout",
     "output_type": "stream",
     "text": [
      "{'max_depth': 7, 'random_state': 1}\n",
      "{'max_depth': 7, 'random_state': 0}\n",
      "{'max_depth': 6, 'random_state': 0}\n",
      "{'max_depth': 6, 'random_state': 0}\n",
      "{'max_depth': 5, 'random_state': 1}\n",
      "{'max_depth': 6, 'random_state': 0}\n",
      "{'max_depth': 6, 'random_state': 1}\n",
      "{'max_depth': 6, 'random_state': 1}\n",
      "{'max_depth': 7, 'random_state': 1}\n",
      "{'max_depth': 6, 'random_state': 0}\n"
     ]
    }
   ],
   "source": [
    "for search_cv in cv_results_tree_optimal_depth[\"estimator\"]:\n",
    "    print(search_cv.best_params_)"
   ]
  },
  {
   "cell_type": "code",
   "execution_count": 17,
   "metadata": {},
   "outputs": [
    {
     "name": "stdout",
     "output_type": "stream",
     "text": [
      "A model using both all features is better than a model using only numerical features for 2 CV iterations out of 10.\n"
     ]
    },
    {
     "data": {
      "image/png": "[encoded data removed]",
      "text/plain": [
       "<Figure size 640x480 with 1 Axes>"
      ]
     },
     "metadata": {},
     "output_type": "display_data"
    }
   ],
   "source": [
    "import matplotlib.pyplot as plt\n",
    "import numpy as np\n",
    "\n",
    "indices = np.arange(len(test_score_lr))\n",
    "plt.scatter(\n",
    "    indices, test_score_lr, color=\"tab:blue\", label=\"Lineal\"\n",
    ")\n",
    "plt.scatter(\n",
    "    indices,\n",
    "    test_score_complex_lr_2,\n",
    "    color=\"tab:red\",\n",
    "    label=\"Tree\",\n",
    ")\n",
    "plt.ylim((0, 1))\n",
    "plt.xlabel(\"Cross-validation iteration\")\n",
    "plt.ylabel(\"Accuracy\")\n",
    "_ = plt.legend(bbox_to_anchor=(1.05, 1), loc=\"upper left\")\n",
    "\n",
    "print(\n",
    "    \"A model using both all features is better than a\"\n",
    "    \" model using only numerical features for\"\n",
    "    f\" {sum(test_score_complex_lr_2 > test_score_lr)} CV iterations out of 10.\"\n",
    ")"
   ]
  },
  {
   "cell_type": "code",
   "execution_count": 18,
   "metadata": {},
   "outputs": [],
   "source": [
    "from sklearn.compose import make_column_selector as selector\n",
    "\n",
    "categorical_columns_selector = selector(dtype_include=object)\n",
    "\n",
    "categorical_features = categorical_columns_selector(data)"
   ]
  },
  {
   "cell_type": "code",
   "execution_count": 19,
   "metadata": {},
   "outputs": [],
   "source": [
    "from sklearn.compose import ColumnTransformer\n",
    "from sklearn.preprocessing import StandardScaler\n",
    "from sklearn.model_selection import cross_validate\n",
    "from sklearn.pipeline import make_pipeline\n",
    "from sklearn.preprocessing import OrdinalEncoder\n",
    "\n",
    "\n",
    "preprocessor = ColumnTransformer(\n",
    "    transformers=[\n",
    "        ('cat', OrdinalEncoder(handle_unknown='use_encoded_value', unknown_value=-1), categorical_features),\n",
    "        ('num', \"passthrough\", numerical_features)\n",
    "    ]\n",
    ")"
   ]
  },
  {
   "cell_type": "code",
   "execution_count": 20,
   "metadata": {},
   "outputs": [],
   "source": [
    "from sklearn.model_selection import GridSearchCV\n",
    "import numpy as np\n",
    "\n",
    "tree_all = make_pipeline(\n",
    "    preprocessor,\n",
    "    DecisionTreeRegressor(max_depth=7),\n",
    ")"
   ]
  },
  {
   "cell_type": "code",
   "execution_count": 21,
   "metadata": {},
   "outputs": [],
   "source": [
    "params = {\"decisiontreeregressor__random_state\": np.arange(0,2)}\n",
    "search = GridSearchCV(tree_all, param_grid=params, cv=10)"
   ]
  },
  {
   "cell_type": "code",
   "execution_count": 22,
   "metadata": {},
   "outputs": [],
   "source": [
    "cv_results_tree_optimal_depth = cross_validate(\n",
    "    search, data, target, cv=10, return_estimator=True, n_jobs=2,\n",
    ")"
   ]
  },
  {
   "cell_type": "code",
   "execution_count": 23,
   "metadata": {},
   "outputs": [
    {
     "data": {
      "text/plain": [
       "array([0.73912891, 0.7358024 , 0.78660116, 0.5016707 , 0.82038021,\n",
       "       0.71412818, 0.78708023, 0.83192973, 0.66074552, 0.75851579])"
      ]
     },
     "execution_count": 23,
     "metadata": {},
     "output_type": "execute_result"
    }
   ],
   "source": [
    "all_features = cv_results_tree_optimal_depth[\"test_score\"]\n",
    "all_features"
   ]
  },
  {
   "cell_type": "code",
   "execution_count": 24,
   "metadata": {},
   "outputs": [
    {
     "name": "stdout",
     "output_type": "stream",
     "text": [
      "A model using both all features is better than a model using only numerical features for 7 CV iterations out of 10.\n"
     ]
    },
    {
     "data": {
      "image/png": "[encoded data removed]",
      "text/plain": [
       "<Figure size 640x480 with 1 Axes>"
      ]
     },
     "metadata": {},
     "output_type": "display_data"
    }
   ],
   "source": [
    "import matplotlib.pyplot as plt\n",
    "import numpy as np\n",
    "\n",
    "indices = np.arange(len(test_score_complex_lr_2))\n",
    "plt.scatter(\n",
    "    indices, test_score_complex_lr_2, color=\"tab:blue\", label=\"numerical_features\"\n",
    ")\n",
    "plt.scatter(\n",
    "    indices,\n",
    "    all_features,\n",
    "    color=\"tab:red\",\n",
    "    label=\"all_features\",\n",
    ")\n",
    "plt.ylim((0, 1))\n",
    "plt.xlabel(\"Cross-validation iteration\")\n",
    "plt.ylabel(\"Accuracy\")\n",
    "_ = plt.legend(bbox_to_anchor=(1.05, 1), loc=\"upper left\")\n",
    "\n",
    "print(\n",
    "    \"A model using both all features is better than a\"\n",
    "    \" model using only numerical features for\"\n",
    "    f\" {sum(all_features > test_score_complex_lr_2)} CV iterations out of 10.\"\n",
    ")"
   ]
  }
 ],
 "metadata": {
  "kernelspec": {
   "display_name": "Python 3 (ipykernel)",
   "language": "python",
   "name": "python3"
  },
  "language_info": {
   "codemirror_mode": {
    "name": "ipython",
    "version": 3
   },
   "file_extension": ".py",
   "mimetype": "text/x-python",
   "name": "python",
   "nbconvert_exporter": "python",
   "pygments_lexer": "ipython3",
   "version": "3.11.4"
  }
 },
 "nbformat": 4,
 "nbformat_minor": 4
}
